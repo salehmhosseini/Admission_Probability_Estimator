{
 "cells": [
  {
   "cell_type": "markdown",
   "metadata": {
    "id": "O2VlAz21tX31"
   },
   "source": [
    "mount the google drive"
   ]
  },
  {
   "cell_type": "code",
   "execution_count": 8,
   "metadata": {
    "colab": {
     "base_uri": "https://localhost:8080/"
    },
    "executionInfo": {
     "elapsed": 2792,
     "status": "ok",
     "timestamp": 1721069151871,
     "user": {
      "displayName": "Saleh Mhosseini",
      "userId": "12146869145252866808"
     },
     "user_tz": -210
    },
    "id": "1ei0TXTgtFX7",
    "outputId": "1280666e-8461-4cf1-eefc-d0ab91264d97"
   },
   "outputs": [
    {
     "name": "stdout",
     "output_type": "stream",
     "text": [
      "Drive already mounted at /content/drive; to attempt to forcibly remount, call drive.mount(\"/content/drive\", force_remount=True).\n"
     ]
    }
   ],
   "source": [
    "from google.colab import drive\n",
    "drive.mount('/content/drive')"
   ]
  },
  {
   "cell_type": "markdown",
   "metadata": {
    "id": "FlC_UgFDrz13"
   },
   "source": [
    "import libraries"
   ]
  },
  {
   "cell_type": "code",
   "execution_count": 9,
   "metadata": {
    "executionInfo": {
     "elapsed": 393,
     "status": "ok",
     "timestamp": 1721069155108,
     "user": {
      "displayName": "Saleh Mhosseini",
      "userId": "12146869145252866808"
     },
     "user_tz": -210
    },
    "id": "FKawlWGQrz17"
   },
   "outputs": [],
   "source": [
    "import pandas as pd\n",
    "import numpy as np\n",
    "from sklearn.model_selection import train_test_split\n",
    "from sklearn.preprocessing import LabelEncoder\n",
    "from sklearn.ensemble import RandomForestRegressor\n",
    "from sklearn.metrics import mean_absolute_error, mean_squared_error, r2_score\n",
    "import joblib\n",
    "import matplotlib.pyplot as plt\n",
    "import seaborn as sns"
   ]
  },
  {
   "cell_type": "markdown",
   "metadata": {
    "id": "KXExWFvrizds"
   },
   "source": [
    "فارسی سازی دیتای کانون"
   ]
  },
  {
   "cell_type": "code",
   "execution_count": 11,
   "metadata": {
    "executionInfo": {
     "elapsed": 14380,
     "status": "ok",
     "timestamp": 1721069239391,
     "user": {
      "displayName": "Saleh Mhosseini",
      "userId": "12146869145252866808"
     },
     "user_tz": -210
    },
    "id": "oaifFU4HhRFr"
   },
   "outputs": [],
   "source": [
    "df = pd.read_excel('total_kanoon_1401.xlsx')\n",
    "df = df.replace({\"ك\": \"ک\", \"ي\": \"ی\", \"ه\": \"ه\", \"ة\": \"ه\", \"أ\": \"ا\", \"إ\": \"ا\", \"ؤ\": \"و\", \"ئ\": \"ی\"}, regex=True)\n",
    "df.to_excel('total_kanoon_1401.xlsx')"
   ]
  },
  {
   "cell_type": "markdown",
   "metadata": {
    "id": "iFZLahh5gwOd"
   },
   "source": [
    "بررسی منطقه ۱ و ۲ و ۳ برای تمامی دانشگاه ها و اضافه کردن منطقه ی ناموجود جهت پر کردن رتبه در منطقه ی آن<br>نکته : پس از ران کردن این کد یه ستون اضافی تشکیل میشه که باید اونو دستی حذفش کنیم"
   ]
  },
  {
   "cell_type": "code",
   "execution_count": 12,
   "metadata": {
    "colab": {
     "base_uri": "https://localhost:8080/"
    },
    "executionInfo": {
     "elapsed": 16103,
     "status": "ok",
     "timestamp": 1721069266852,
     "user": {
      "displayName": "Saleh Mhosseini",
      "userId": "12146869145252866808"
     },
     "user_tz": -210
    },
    "id": "bGUUi4U7gxSA",
    "outputId": "a267adca-81ec-4ff2-8d6d-3b76b443f8a2"
   },
   "outputs": [
    {
     "name": "stdout",
     "output_type": "stream",
     "text": [
      "Updated file saved to add_region.xlsx\n"
     ]
    }
   ],
   "source": [
    "import pandas as pd\n",
    "\n",
    "# بارگذاری فایل اکسل\n",
    "file_path = 'total_kanoon_1401.xlsx'\n",
    "df = pd.read_excel(file_path)\n",
    "\n",
    "# تغییر نام ستون 'دانشگاه ' به 'دانشگاه'\n",
    "df.rename(columns={'دانشگاه ': 'دانشگاه'}, inplace=True)\n",
    "\n",
    "# گروه‌بندی داده‌ها بر اساس ستون‌های مشخص شده\n",
    "grouped = df.groupby(['نوع دوره', 'دانشگاه', 'reshte_name', 'group_name'])\n",
    "\n",
    "# لیست خالی برای ذخیره ردیف‌های جدید\n",
    "new_rows = []\n",
    "\n",
    "# بررسی هر گروه و افزودن ردیف‌های جدید در صورت نیاز\n",
    "for name, group in grouped:\n",
    "    existing_regions = group['region_quota'].values\n",
    "    for region in ['منطقه 1', 'منطقه 2', 'منطقه 3']:\n",
    "        if region not in existing_regions:\n",
    "            # ایجاد ردیف جدید با منطقه مفقود و ستون‌های رتبه خالی\n",
    "            new_row = {col: None for col in df.columns}\n",
    "            new_row.update({\n",
    "                'region_quota': region,\n",
    "                'نوع دوره': name[0],\n",
    "                'دانشگاه': name[1],\n",
    "                'reshte_name': name[2],\n",
    "                'group_name': name[3]\n",
    "            })\n",
    "            new_rows.append(new_row)\n",
    "\n",
    "# افزودن ردیف‌های جدید به دیتافریم اصلی\n",
    "updated_df = pd.concat([df, pd.DataFrame(new_rows)], ignore_index=True)\n",
    "\n",
    "# ذخیره دیتافریم به فایل اکسل جدید\n",
    "output_file_path = 'add_region.xlsx'\n",
    "updated_df.to_excel(output_file_path, index=False)\n",
    "\n",
    "print(f'Updated file saved to {output_file_path}')\n"
   ]
  },
  {
   "cell_type": "markdown",
   "metadata": {
    "id": "2I2GhW3Arz2A"
   },
   "source": [
    "پیدا کردن ماکسیمم رتبه برای هر منطقه برای هر رکورد و نگه داشتن ماکسیمم رتبه ی منطقه ی هر دانشگاه و حذف بقیه ی رکورد ها         "
   ]
  },
  {
   "cell_type": "code",
   "execution_count": 13,
   "metadata": {
    "colab": {
     "base_uri": "https://localhost:8080/"
    },
    "executionInfo": {
     "elapsed": 11797,
     "status": "ok",
     "timestamp": 1721069282609,
     "user": {
      "displayName": "Saleh Mhosseini",
      "userId": "12146869145252866808"
     },
     "user_tz": -210
    },
    "id": "X6-NI8ngrz2A",
    "outputId": "9f474794-0b3a-4f0c-ff88-e8cbe08b237d"
   },
   "outputs": [
    {
     "name": "stdout",
     "output_type": "stream",
     "text": [
      "Cleaned data saved to max_data.xlsx\n"
     ]
    }
   ],
   "source": [
    "# Load the Excel file\n",
    "file_path = 'add_region.xlsx'\n",
    "df = pd.read_excel(file_path, sheet_name='Sheet1')\n",
    "\n",
    "# Drop duplicates based on the specified columns, keeping the row with the highest national_rank\n",
    "df_cleaned = df.sort_values('national_rank', ascending=False).drop_duplicates(subset=['region_quota', 'نوع دوره', 'دانشگاه', 'reshte_name', 'group_name'], keep='first')\n",
    "\n",
    "# Save the cleaned data to a new Excel file\n",
    "output_file_path = 'max_data.xlsx'\n",
    "df_cleaned.to_excel(output_file_path, index=False)\n",
    "\n",
    "print(f\"Cleaned data saved to {output_file_path}\")\n"
   ]
  },
  {
   "cell_type": "markdown",
   "metadata": {
    "id": "KMgAMRNxrz2B"
   },
   "source": [
    "پر کردن رتبه ی کشوری رکورد های جدیدی که اضافه شده اند.  نحوه ی پر کردن به این صورت است که ماکسیمم رتبه بین منطقه های مختلف آن رکورد رو در نظر میگیریم"
   ]
  },
  {
   "cell_type": "code",
   "execution_count": 14,
   "metadata": {
    "colab": {
     "base_uri": "https://localhost:8080/"
    },
    "executionInfo": {
     "elapsed": 37650,
     "status": "ok",
     "timestamp": 1721069325256,
     "user": {
      "displayName": "Saleh Mhosseini",
      "userId": "12146869145252866808"
     },
     "user_tz": -210
    },
    "id": "5xFz-t7Crz2B",
    "outputId": "8cb141ae-c341-4aa2-f77d-2f2cc3782e87"
   },
   "outputs": [
    {
     "name": "stdout",
     "output_type": "stream",
     "text": [
      "Data has been processed and saved to: filled_national_rank_data.xlsx\n"
     ]
    }
   ],
   "source": [
    "# Load the dataset\n",
    "file_path = 'max_data.xlsx'  # تغییر دهید به مسیر فایل خود\n",
    "data = pd.read_excel(file_path)\n",
    "\n",
    "# Function to fill missing national_rank values with the maximum of available national_rank values for the same university, reshte_name, and group_name\n",
    "def fill_missing_national_rank(df):\n",
    "    # Identify rows where national_rank is missing\n",
    "    missing_mask = df['national_rank'].isnull()\n",
    "\n",
    "    # Iterate over rows with missing national_rank\n",
    "    for index, row in df[missing_mask].iterrows():\n",
    "        # Filter rows with the same university, reshte_name, and group_name and non-missing national_rank\n",
    "        similar_rows = df[(df['دانشگاه'] == row['دانشگاه']) &\n",
    "                          (df['reshte_name'] == row['reshte_name']) &\n",
    "                          (df['group_name'] == row['group_name']) &\n",
    "                          (~df['national_rank'].isnull())]\n",
    "\n",
    "        if not similar_rows.empty:\n",
    "            # Find the maximum national_rank\n",
    "            max_national_rank = similar_rows['national_rank'].max()\n",
    "            # Fill the missing national_rank with the maximum national_rank\n",
    "            df.at[index, 'national_rank'] = max_national_rank\n",
    "\n",
    "    return df\n",
    "\n",
    "# Apply the function to the dataset\n",
    "filled_data = fill_missing_national_rank(data)\n",
    "\n",
    "# Save the filled data to a new Excel file\n",
    "output_file_path = 'filled_national_rank_data.xlsx'  # تغییر دهید به نام فایل خروجی دلخواه\n",
    "filled_data.to_excel(output_file_path, index=False)\n",
    "\n",
    "print(\"Data has been processed and saved to:\", output_file_path)\n"
   ]
  },
  {
   "cell_type": "markdown",
   "metadata": {
    "id": "yDl9FPwhrz2C"
   },
   "source": [
    "### کامل کردن دیتاست"
   ]
  },
  {
   "cell_type": "markdown",
   "metadata": {
    "id": "WIB5xjYYrz2C"
   },
   "source": [
    "حذف ستون های اضافی ای دیتای کانون و کگل و نگه داشتن ستون های\n",
    "<span style=\"color:darkblue; font-weight:bold;\">رتبه ی کشوری</span> و\n",
    "<span style=\"color:darkblue; font-weight:bold;\">رتبه در منطقه</span> و\n",
    "<span style=\"color:darkblue; font-weight:bold;\">نوع منطقه</span> و\n",
    "<span style=\"color:darkblue; font-weight:bold;\">گروه آزمایشی</span>.\n",
    "و حذف سهمیه های ایثار گران و خانواده ی شهدا و ذخیره سازی در فایل filtred_comb_dataset"
   ]
  },
  {
   "cell_type": "markdown",
   "metadata": {
    "id": "H4HrqqFMrz2C"
   },
   "source": [
    "نوشتن مدل ماشین لرنینگ رندم فارست"
   ]
  },
  {
   "cell_type": "code",
   "execution_count": 15,
   "metadata": {
    "colab": {
     "base_uri": "https://localhost:8080/"
    },
    "executionInfo": {
     "elapsed": 30181,
     "status": "ok",
     "timestamp": 1721069359845,
     "user": {
      "displayName": "Saleh Mhosseini",
      "userId": "12146869145252866808"
     },
     "user_tz": -210
    },
    "id": "ZuXroy5vrz2D",
    "outputId": "daf8faa0-c2c2-45b1-dd8e-079293d4ebc3"
   },
   "outputs": [
    {
     "name": "stdout",
     "output_type": "stream",
     "text": [
      "Mean Absolute Error (MAE): 63.57712831707832\n",
      "Root Mean Squared Error (RMSE): 238.9290279973793\n",
      "r2 socore is : 0.9991262418298967\n",
      "       national_rank  region_quota_encoded  group_name_encoded  \\\n",
      "56676            283                     0                   1   \n",
      "88660          91273                     2                   1   \n",
      "76752          23753                     2                   1   \n",
      "66601            179                     0                   1   \n",
      "20473           1149                     1                   0   \n",
      "\n",
      "       actual_quota_rank  predicted_quota_rank  \n",
      "56676                 94            108.985000  \n",
      "88660              31830          31819.520000  \n",
      "76752               7050           7049.490000  \n",
      "66601                 70             69.236167  \n",
      "20473                447            400.262000  \n",
      "Model and encoders saved successfully.\n"
     ]
    }
   ],
   "source": [
    "# Load the dataset\n",
    "file_path = 'filtred_comb_dataset.xlsx'\n",
    "data = pd.read_excel(file_path)\n",
    "\n",
    "# Preprocess the data\n",
    "# Encode categorical variables\n",
    "label_encoder_region = LabelEncoder()\n",
    "label_encoder_group = LabelEncoder()\n",
    "\n",
    "data['region_quota_encoded'] = label_encoder_region.fit_transform(data['region_quota'])\n",
    "data['group_name_encoded'] = label_encoder_group.fit_transform(data['group_name'])\n",
    "\n",
    "# Prepare features and target variable\n",
    "X = data[['national_rank', 'region_quota_encoded', 'group_name_encoded']]\n",
    "y = data['quota_rank']\n",
    "\n",
    "# Split the data into training and testing sets\n",
    "X_train, X_test, y_train, y_test = train_test_split(X, y, test_size=0.2, random_state=42)\n",
    "\n",
    "# Train the model using Random Forest Regressor\n",
    "model_rf = RandomForestRegressor(n_estimators=100, random_state=42)\n",
    "model_rf.fit(X_train, y_train)\n",
    "\n",
    "# Evaluate the model\n",
    "y_pred_rf = model_rf.predict(X_test)\n",
    "mae_rf = mean_absolute_error(y_test, y_pred_rf)\n",
    "rmse_rf = np.sqrt(mean_squared_error(y_test, y_pred_rf))\n",
    "r2 = r2_score(y_test, y_pred_rf)\n",
    "\n",
    "print(f'Mean Absolute Error (MAE): {mae_rf}')\n",
    "print(f'Root Mean Squared Error (RMSE): {rmse_rf}')\n",
    "print(f'r2 socore is : {r2}')\n",
    "\n",
    "# Display the test set along with the actual and predicted values\n",
    "test_results = X_test.copy()\n",
    "test_results['actual_quota_rank'] = y_test.values\n",
    "test_results['predicted_quota_rank'] = y_pred_rf\n",
    "\n",
    "print(test_results.head())\n",
    "\n",
    "# Save the model and encoders\n",
    "joblib.dump(model_rf, 'random_forest_model.pkl')\n",
    "joblib.dump(label_encoder_region, 'label_encoder_region.pkl')\n",
    "joblib.dump(label_encoder_group, 'label_encoder_group.pkl')\n",
    "\n",
    "print(\"Model and encoders saved successfully.\")\n",
    "\n",
    "# Function to predict quota_rank for new inputs\n",
    "def predict_quota_rank(national_rank, region_quota, group_name):\n",
    "    # Load the encoders and model\n",
    "    model_rf = joblib.load('random_forest_model.pkl')\n",
    "    label_encoder_region = joblib.load('label_encoder_region.pkl')\n",
    "    label_encoder_group = joblib.load('label_encoder_group.pkl')\n",
    "\n",
    "    region_quota_encoded = label_encoder_region.transform([region_quota])[0]\n",
    "    group_name_encoded = label_encoder_group.transform([group_name])[0]\n",
    "    input_data = pd.DataFrame([[national_rank, region_quota_encoded, group_name_encoded]],\n",
    "                              columns=['national_rank', 'region_quota_encoded', 'group_name_encoded'])\n",
    "    prediction = model_rf.predict(input_data)\n",
    "    return prediction[0]"
   ]
  },
  {
   "cell_type": "markdown",
   "metadata": {
    "id": "Ot3omsdCrz2D"
   },
   "source": [
    "تست تکی تکی"
   ]
  },
  {
   "cell_type": "code",
   "execution_count": 16,
   "metadata": {
    "colab": {
     "base_uri": "https://localhost:8080/"
    },
    "executionInfo": {
     "elapsed": 1348,
     "status": "ok",
     "timestamp": 1721069365776,
     "user": {
      "displayName": "Saleh Mhosseini",
      "userId": "12146869145252866808"
     },
     "user_tz": -210
    },
    "id": "5BF5m2mTrz2D",
    "outputId": "06cf750b-c7d2-4b17-a61c-ff45214e3f4a"
   },
   "outputs": [
    {
     "name": "stdout",
     "output_type": "stream",
     "text": [
      "77343.47\n"
     ]
    }
   ],
   "source": [
    "# Example prediction\n",
    "print(predict_quota_rank(200000, 'منطقه 2', 'تجربی'))"
   ]
  },
  {
   "cell_type": "markdown",
   "metadata": {
    "id": "RFDQ0R4Irz2D"
   },
   "source": [
    "نمایش نموداری"
   ]
  },
  {
   "cell_type": "code",
   "execution_count": 17,
   "metadata": {
    "colab": {
     "base_uri": "https://localhost:8080/",
     "height": 879
    },
    "executionInfo": {
     "elapsed": 1461,
     "status": "ok",
     "timestamp": 1721069369461,
     "user": {
      "displayName": "Saleh Mhosseini",
      "userId": "12146869145252866808"
     },
     "user_tz": -210
    },
    "id": "Rh8Gg2lPrz2D",
    "outputId": "a1cf2b51-a6aa-4297-b3d9-220653c0b43f"
   },
   "outputs": [
    {
     "data": {
      "image/png": "[encoded data removed]",
      "text/plain": [
       "<Figure size 1000x600 with 1 Axes>"
      ]
     },
     "metadata": {},
     "output_type": "display_data"
    },
    {
     "data": {
      "text/plain": [
       "<Figure size 640x480 with 0 Axes>"
      ]
     },
     "metadata": {},
     "output_type": "display_data"
    },
    {
     "data": {
      "image/png": "[encoded data removed]",
      "text/plain": [
       "<Figure size 1000x600 with 1 Axes>"
      ]
     },
     "metadata": {},
     "output_type": "display_data"
    }
   ],
   "source": [
    "# Visualize model performance\n",
    "# Scatter plot of Actual vs. Predicted values\n",
    "plt.figure(figsize=(10, 6))\n",
    "plt.scatter(y_test, y_pred_rf, alpha=0.5)\n",
    "plt.plot([min(y_test), max(y_test)], [min(y_test), max(y_test)], color='red')  # Line of perfect prediction\n",
    "plt.xlabel('Actual Quota Rank')\n",
    "plt.ylabel('Predicted Quota Rank')\n",
    "plt.title('Actual vs. Predicted Quota Rank')\n",
    "plt.show()\n",
    "plt.savefig('actual_vs_predicted_quota_rank.png')  # Save the plot as an image\n",
    "\n",
    "\n",
    "# Residual plot\n",
    "residuals = y_test - y_pred_rf\n",
    "plt.figure(figsize=(10, 6))\n",
    "sns.histplot(residuals, kde=True, bins=30)\n",
    "plt.xlabel('Residuals')\n",
    "plt.ylabel('Frequency')\n",
    "plt.title('Residuals Distribution')\n",
    "plt.show()"
   ]
  },
  {
   "cell_type": "markdown",
   "metadata": {
    "id": "KZmumXrorz2E"
   },
   "source": [
    "استفاده از مدل جهت پر کردن مقادیر خالی با استفاده از پیش بینی ماشین لرنینگ"
   ]
  },
  {
   "cell_type": "code",
   "execution_count": 18,
   "metadata": {
    "colab": {
     "base_uri": "https://localhost:8080/"
    },
    "executionInfo": {
     "elapsed": 26746,
     "status": "ok",
     "timestamp": 1721069399888,
     "user": {
      "displayName": "Saleh Mhosseini",
      "userId": "12146869145252866808"
     },
     "user_tz": -210
    },
    "id": "XU8MUdHorz2E",
    "outputId": "979b00f9-ccae-4ef8-a3c9-adebdf27a6b9"
   },
   "outputs": [
    {
     "name": "stdout",
     "output_type": "stream",
     "text": [
      "Updated data saved to predicted_quota_rank_data.xlsx\n"
     ]
    }
   ],
   "source": [
    "# Load the dataset\n",
    "file_path = 'filled_national_rank_data.xlsx'  # Path to your dataset\n",
    "data = pd.read_excel(file_path)\n",
    "\n",
    "# Load the saved model and encoders\n",
    "model_rf = joblib.load('random_forest_model.pkl')\n",
    "label_encoder_region = joblib.load('label_encoder_region.pkl')\n",
    "label_encoder_group = joblib.load('label_encoder_group.pkl')\n",
    "\n",
    "# Check for records with NaN quota_rank\n",
    "missing_quota_rank_mask = data['quota_rank'].isnull()\n",
    "\n",
    "# Prepare features for the missing quota_rank records\n",
    "missing_data = data[missing_quota_rank_mask].copy()\n",
    "missing_data['region_quota_encoded'] = label_encoder_region.transform(missing_data['region_quota'])\n",
    "missing_data['group_name_encoded'] = label_encoder_group.transform(missing_data['group_name'])\n",
    "\n",
    "# Select the features required for prediction\n",
    "X_missing = missing_data[['national_rank', 'region_quota_encoded', 'group_name_encoded']]\n",
    "\n",
    "# Predict quota_rank for records with NaN values\n",
    "predicted_quota_rank = model_rf.predict(X_missing)\n",
    "\n",
    "# Fill the missing quota_rank values with the predicted values\n",
    "data.loc[missing_quota_rank_mask, 'quota_rank'] = predicted_quota_rank\n",
    "\n",
    "# Save the updated data to a new Excel file\n",
    "output_file_path = 'predicted_quota_rank_data.xlsx'  # Path to save the updated dataset\n",
    "data.to_excel(output_file_path, index=False)\n",
    "\n",
    "print(f\"Updated data saved to {output_file_path}\")\n"
   ]
  }
 ],
 "metadata": {
  "colab": {
   "provenance": []
  },
  "kernelspec": {
   "display_name": "Python 3 (ipykernel)",
   "language": "python",
   "name": "python3"
  },
  "language_info": {
   "codemirror_mode": {
    "name": "ipython",
    "version": 3
   },
   "file_extension": ".py",
   "mimetype": "text/x-python",
   "name": "python",
   "nbconvert_exporter": "python",
   "pygments_lexer": "ipython3",
   "version": "3.12.5"
  }
 },
 "nbformat": 4,
 "nbformat_minor": 4
}
